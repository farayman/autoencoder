{
  "nbformat": 4,
  "nbformat_minor": 0,
  "metadata": {
    "colab": {
      "provenance": []
    },
    "kernelspec": {
      "name": "python3",
      "display_name": "Python 3"
    },
    "accelerator": "GPU"
  },
  "cells": [
    {
      "cell_type": "code",
      "metadata": {
        "id": "ca3Km0dOKnRj"
      },
      "source": [
        "from tensorflow.keras.models import Model, Sequential\n",
        "from tensorflow.keras.datasets import mnist\n",
        "\n",
        "from tensorflow.keras.layers import Dense, Flatten, Reshape, Input, Conv2DTranspose, concatenate, Activation, MaxPooling2D, Conv2D, BatchNormalization\n",
        "from tensorflow.keras import backend as K\n",
        "from tensorflow.keras.optimizers import Adam\n",
        "from tensorflow.keras import utils\n",
        "from google.colab import files\n",
        "import matplotlib.pyplot as plt\n",
        "from tensorflow.keras.preprocessing import image\n",
        "import numpy as np\n",
        "import pandas as pd\n",
        "from PIL import Image\n",
        "from sklearn.model_selection import train_test_split\n",
        "from sklearn.preprocessing import StandardScaler"
      ],
      "execution_count": null,
      "outputs": []
    },
    {
      "cell_type": "code",
      "metadata": {
        "id": "YHCwSKwGNDsN",
        "outputId": "a47d1dec-8d47-4624-9a8d-45343133cdf9",
        "colab": {
          "base_uri": "https://localhost:8080/"
        }
      },
      "source": [
        "(xTrainMnist, yTrainMnist), (xTestMnist, yTestMnist) = mnist.load_data()\n",
        "xTrainMnist = xTrainMnist.astype('float32')/255\n",
        "xTrainMnist = xTrainMnist.reshape(xTrainMnist.shape[0], 28, 28, 1)"
      ],
      "execution_count": null,
      "outputs": [
        {
          "output_type": "stream",
          "name": "stdout",
          "text": [
            "Downloading data from https://storage.googleapis.com/tensorflow/tf-keras-datasets/mnist.npz\n",
            "11493376/11490434 [==============================] - 0s 0us/step\n",
            "11501568/11490434 [==============================] - 0s 0us/step\n"
          ]
        }
      ]
    },
    {
      "cell_type": "code",
      "metadata": {
        "id": "6isyuGXhNVYF"
      },
      "source": [
        "def baseAutoencoder():\n",
        "    img_input = Input((28,28,1))\n",
        "\n",
        "    x = Conv2D(32, (3, 3), padding='same', activation='relu')(img_input)\n",
        "    x = BatchNormalization()(x)\n",
        "    x = Conv2D(32, (3, 3), padding='same', activation='relu')(x)\n",
        "    x = BatchNormalization()(x)\n",
        "    x = MaxPooling2D()(x)\n",
        "\n",
        "    x = Conv2D(64, (3, 3), padding='same', activation='relu')(x)\n",
        "    x = BatchNormalization()(x)\n",
        "    x = Conv2D(64, (3, 3), padding='same', activation='relu')(x)\n",
        "    x = BatchNormalization()(x)\n",
        "    z = MaxPooling2D()(x)\n",
        "    # ужал 7*7\n",
        "\n",
        "    x = Conv2DTranspose(64, (2, 2), strides=(2, 2), padding='same', activation='relu')(z)\n",
        "    x = BatchNormalization()(x)\n",
        "\n",
        "    x = Conv2D(64, (3, 3), padding='same', activation='relu')(x)\n",
        "    x = BatchNormalization()(x)\n",
        "    x = Conv2D(64, (3, 3), padding='same', activation='relu')(x)\n",
        "    x = BatchNormalization()(x)\n",
        "\n",
        "\n",
        "    x = Conv2DTranspose(32, (2, 2), strides=(2, 2), padding='same', activation='relu')(x)\n",
        "    x = BatchNormalization()(x)\n",
        "    x = Conv2D(32, (3, 3), padding='same', activation='relu')(x)\n",
        "    x = BatchNormalization()(x)\n",
        "    x = Conv2D(32, (3, 3), padding='same', activation='relu')(x)\n",
        "    x = BatchNormalization()(x)\n",
        "\n",
        "    x = Conv2D(1, (3, 3), activation='sigmoid', padding='same')(x)\n",
        "\n",
        "    model = Model(img_input, x)\n",
        "    model.compile(optimizer=Adam(),\n",
        "                  loss='mean_squared_error')\n",
        "\n",
        "    return model"
      ],
      "execution_count": null,
      "outputs": []
    },
    {
      "cell_type": "code",
      "metadata": {
        "id": "5-VasV-KTlZD"
      },
      "source": [
        "def plotImages(startIndex, xTrain, pred): # создадим функцию для вывода изображений как картинок\n",
        "  n = 5\n",
        "  plt.figure(figsize=(10, 4))\n",
        "  for i in range(n):\n",
        "      index = i + startIndex\n",
        "      ax = plt.subplot(2, n, i + 1)\n",
        "      plt.imshow(xTrain[index].reshape(28, 28))\n",
        "      plt.gray()\n",
        "      ax.get_xaxis().set_visible(False)\n",
        "      ax.get_yaxis().set_visible(False)\n",
        "\n",
        "      # Показываем восстановленные картинки\n",
        "      ax = plt.subplot(2, n, i + 1 + n)\n",
        "      plt.imshow(pred[index].reshape(28, 28))\n",
        "      plt.gray()\n",
        "      ax.get_xaxis().set_visible(False)\n",
        "      ax.get_yaxis().set_visible(False)\n",
        "  plt.show()"
      ],
      "execution_count": null,
      "outputs": []
    },
    {
      "cell_type": "code",
      "metadata": {
        "id": "uL8YACvq29dK"
      },
      "source": [
        "(xSquareMnist, ySquareMnist), (xSquareTestMnist, ySquareTestMnist) = mnist.load_data()"
      ],
      "execution_count": null,
      "outputs": []
    },
    {
      "cell_type": "code",
      "metadata": {
        "id": "rdL2QrfdVDE2"
      },
      "source": [
        "def addSquare(x): # объявим функцию добавления квадрата\n",
        "\n",
        "  squareRandomX = np.random.randint(20)\n",
        "  squareRandomY = np.random.randint(20)\n",
        "\n",
        "  for i in range(squareRandomX,squareRandomX+8):\n",
        "    for j in range(squareRandomY,squareRandomY+8):\n",
        "         x[i,j] = 0\n",
        "\n",
        "  return x\n",
        "\n",
        "def Any10Images(startIndex, xTrain):\n",
        "    n = 10\n",
        "    plt.figure(figsize=(10,4))\n",
        "    for i in range(n):\n",
        "      index = i + startIndex\n",
        "      ax = plt.subplot(2,n,i+1)\n",
        "      plt.imshow(xTrain[index].reshape(28,28))\n",
        "      plt.gray()\n",
        "      ax.get_xaxis().set_visible(False)\n",
        "      ax.get_yaxis().set_visible(False)\n",
        "\n",
        "    plt.show()"
      ],
      "execution_count": null,
      "outputs": []
    },
    {
      "cell_type": "code",
      "metadata": {
        "id": "ay56K_p7hB9_",
        "outputId": "9ea259f6-db4b-4b83-a6ce-e4b64e5eb7ef",
        "colab": {
          "base_uri": "https://localhost:8080/",
          "height": 82
        }
      },
      "source": [
        "for i in range(0,12000):\n",
        "  xSquareMnist[i] = addSquare(xSquareMnist[i])\n",
        "\n",
        "Any10Images(1000,xSquareMnist)\n"
      ],
      "execution_count": null,
      "outputs": [
        {
          "output_type": "display_data",
          "data": {
            "text/plain": [
              "<Figure size 720x288 with 10 Axes>"
            ],
            "image/png": "[encoded data removed]"
          },
          "metadata": {
            "needs_background": "light"
          }
        }
      ]
    },
    {
      "cell_type": "code",
      "metadata": {
        "id": "SiS6YnHW8Zsf",
        "outputId": "01002284-c394-45ca-9b17-9d957e99b6f3",
        "colab": {
          "base_uri": "https://localhost:8080/"
        }
      },
      "source": [
        "modelDeSquare = baseAutoencoder()\n",
        "modelDeSquare.fit(xSquareMnist[:10000], xTrainMnist[:10000], epochs=30, batch_size=100, validation_data = (xSquareMnist[10000:12000], xTrainMnist[10000:12000]))"
      ],
      "execution_count": null,
      "outputs": [
        {
          "output_type": "stream",
          "name": "stdout",
          "text": [
            "Epoch 1/30\n",
            "100/100 [==============================] - 3s 24ms/step - loss: 0.0440 - val_loss: 0.0388\n",
            "Epoch 2/30\n",
            "100/100 [==============================] - 2s 21ms/step - loss: 0.0125 - val_loss: 0.0139\n",
            "Epoch 3/30\n",
            "100/100 [==============================] - 2s 21ms/step - loss: 0.0093 - val_loss: 0.0097\n",
            "Epoch 4/30\n",
            "100/100 [==============================] - 2s 21ms/step - loss: 0.0077 - val_loss: 0.0074\n",
            "Epoch 5/30\n",
            "100/100 [==============================] - 2s 21ms/step - loss: 0.0069 - val_loss: 0.0074\n",
            "Epoch 6/30\n",
            "100/100 [==============================] - 2s 21ms/step - loss: 0.0062 - val_loss: 0.0070\n",
            "Epoch 7/30\n",
            "100/100 [==============================] - 3s 26ms/step - loss: 0.0058 - val_loss: 0.0070\n",
            "Epoch 8/30\n",
            "100/100 [==============================] - 2s 21ms/step - loss: 0.0055 - val_loss: 0.0059\n",
            "Epoch 9/30\n",
            "100/100 [==============================] - 2s 23ms/step - loss: 0.0052 - val_loss: 0.0070\n",
            "Epoch 10/30\n",
            "100/100 [==============================] - 2s 21ms/step - loss: 0.0049 - val_loss: 0.0061\n",
            "Epoch 11/30\n",
            "100/100 [==============================] - 2s 21ms/step - loss: 0.0047 - val_loss: 0.0070\n",
            "Epoch 12/30\n",
            "100/100 [==============================] - 2s 21ms/step - loss: 0.0045 - val_loss: 0.0059\n",
            "Epoch 13/30\n",
            "100/100 [==============================] - 2s 21ms/step - loss: 0.0043 - val_loss: 0.0058\n",
            "Epoch 14/30\n",
            "100/100 [==============================] - 2s 21ms/step - loss: 0.0042 - val_loss: 0.0054\n",
            "Epoch 15/30\n",
            "100/100 [==============================] - 2s 21ms/step - loss: 0.0040 - val_loss: 0.0068\n",
            "Epoch 16/30\n",
            "100/100 [==============================] - 2s 21ms/step - loss: 0.0039 - val_loss: 0.0056\n",
            "Epoch 17/30\n",
            "100/100 [==============================] - 2s 21ms/step - loss: 0.0036 - val_loss: 0.0059\n",
            "Epoch 18/30\n",
            "100/100 [==============================] - 2s 21ms/step - loss: 0.0037 - val_loss: 0.0057\n",
            "Epoch 19/30\n",
            "100/100 [==============================] - 2s 21ms/step - loss: 0.0036 - val_loss: 0.0056\n",
            "Epoch 20/30\n",
            "100/100 [==============================] - 2s 21ms/step - loss: 0.0034 - val_loss: 0.0054\n",
            "Epoch 21/30\n",
            "100/100 [==============================] - 2s 21ms/step - loss: 0.0033 - val_loss: 0.0053\n",
            "Epoch 22/30\n",
            "100/100 [==============================] - 2s 20ms/step - loss: 0.0033 - val_loss: 0.0052\n",
            "Epoch 23/30\n",
            "100/100 [==============================] - 2s 21ms/step - loss: 0.0031 - val_loss: 0.0053\n",
            "Epoch 24/30\n",
            "100/100 [==============================] - 2s 21ms/step - loss: 0.0030 - val_loss: 0.0053\n",
            "Epoch 25/30\n",
            "100/100 [==============================] - 2s 21ms/step - loss: 0.0029 - val_loss: 0.0052\n",
            "Epoch 26/30\n",
            "100/100 [==============================] - 2s 20ms/step - loss: 0.0029 - val_loss: 0.0053\n",
            "Epoch 27/30\n",
            "100/100 [==============================] - 2s 24ms/step - loss: 0.0028 - val_loss: 0.0053\n",
            "Epoch 28/30\n",
            "100/100 [==============================] - 2s 25ms/step - loss: 0.0027 - val_loss: 0.0055\n",
            "Epoch 29/30\n",
            "100/100 [==============================] - 3s 25ms/step - loss: 0.0027 - val_loss: 0.0053\n",
            "Epoch 30/30\n",
            "100/100 [==============================] - 2s 21ms/step - loss: 0.0027 - val_loss: 0.0056\n"
          ]
        },
        {
          "output_type": "execute_result",
          "data": {
            "text/plain": [
              "<keras.callbacks.History at 0x7f76533dc310>"
            ]
          },
          "metadata": {},
          "execution_count": 10
        }
      ]
    },
    {
      "cell_type": "code",
      "metadata": {
        "id": "331GzRqi-iTT",
        "outputId": "7fdfba26-a162-4255-e2e0-80e58d0067d6",
        "colab": {
          "base_uri": "https://localhost:8080/",
          "height": 249
        }
      },
      "source": [
        "predMnistDeSquare = modelDeSquare.predict(xSquareMnist[:12000])\n",
        "predMnistDeSquare = predMnistDeSquare * 255\n",
        "predMnistDeSquare = predMnistDeSquare.astype('uint8')\n",
        "\n",
        "plotImages(10510, xSquareMnist, predMnistDeSquare)"
      ],
      "execution_count": null,
      "outputs": [
        {
          "output_type": "display_data",
          "data": {
            "text/plain": [
              "<Figure size 720x288 with 10 Axes>"
            ],
            "image/png": "[encoded data removed]"
          },
          "metadata": {
            "needs_background": "light"
          }
        }
      ]
    },
    {
      "cell_type": "code",
      "metadata": {
        "id": "Y68WObNbckZf",
        "outputId": "41e835e4-9d1d-47d8-9401-ddc6f146343c",
        "colab": {
          "base_uri": "https://localhost:8080/",
          "height": 249
        }
      },
      "source": [
        "plotImages(10530, xSquareMnist, predMnistDeSquare)"
      ],
      "execution_count": null,
      "outputs": [
        {
          "output_type": "display_data",
          "data": {
            "text/plain": [
              "<Figure size 720x288 with 10 Axes>"
            ],
            "image/png": "[encoded data removed]"
          },
          "metadata": {
            "needs_background": "light"
          }
        }
      ]
    },
    {
      "cell_type": "code",
      "metadata": {
        "id": "fwW5eQaWLyZl"
      },
      "source": [],
      "execution_count": null,
      "outputs": []
    }
  ]
}